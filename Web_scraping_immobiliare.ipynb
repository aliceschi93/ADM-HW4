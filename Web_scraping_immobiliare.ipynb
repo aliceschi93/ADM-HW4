{
 "cells": [
  {
   "cell_type": "markdown",
   "metadata": {},
   "source": [
    "There are the libraries needed to make some web scraping."
   ]
  },
  {
   "cell_type": "code",
   "execution_count": 1,
   "metadata": {},
   "outputs": [],
   "source": [
    "import requests\n",
    "import pickle\n",
    "from tqdm import tqdm\n",
    "from bs4 import BeautifulSoup\n",
    "import time\n",
    "import re\n",
    "import time\n",
    "import warnings\n",
    "warnings.filterwarnings(\"ignore\")"
   ]
  },
  {
   "cell_type": "markdown",
   "metadata": {},
   "source": [
    "There are about $1700$ *immobiliare* pages for announcements in Rome with $25$ links per page. Actually we work on only $700$ pages since we need $10K$ documents."
   ]
  },
  {
   "cell_type": "code",
   "execution_count": null,
   "metadata": {},
   "outputs": [],
   "source": [
    "%%time\n",
    "records = []\n",
    "count = 1\n",
    "start_time = time.time()\n",
    "\n",
    "# 670 pages are enough to get 10K announcements\n",
    "for i in tqdm(range(1, 671)):\n",
    "    r = requests.get('https://www.immobiliare.it/vendita-case/roma/?criterio=rilevanza&pag=' + str(i), verify = False)  \n",
    "    soup = BeautifulSoup(r.text, 'html.parser')\n",
    "\n",
    "    for block in soup.find_all('div', class_ = 'listing-item_body'):\n",
    "        try:\n",
    "            list_ = block.find('ul', class_ = 'listing-features list-piped')\n",
    "            title = 'announcement_' + str(count)\n",
    "            prezzo_ = block.findAll('li', class_ = 'lif__item lif__pricing')\n",
    "            prezzo = prezzo_[-1].text.strip()\n",
    "            locali_ = block.findAll('span', class_ = 'text-bold')\n",
    "            locali = locali_[-3].text\n",
    "            superfici = locali_[-2].text\n",
    "            bagni = locali_[-1].text\n",
    "            piano = block.div.abbr['title']\n",
    "            \n",
    "            # we replace this strings with the number 0\n",
    "            if (piano == 'T' or piano == 'Piano terra'): \n",
    "                piano = 0\n",
    "                \n",
    "            # we want to work only with numeric prices\n",
    "            elif (piano.isdigit() == False or prezzo == 'EZZO SU RICHIESTA'):\n",
    "                continue\n",
    "            # there are some discount percentages, so we take the first number which is the discounted one\n",
    "            if ('%' in prezzo):\n",
    "                prezzo = '€' + prezzo.split('€')[1]\n",
    "                \n",
    "            url = block.find('a', href = True)\n",
    "\n",
    "            if ('https://' in url['href']):\n",
    "                ann = requests.get(url['href'])\n",
    "                \n",
    "            # there are some 'broken' links (starting with 'http')\n",
    "            else:\n",
    "                ann = requests.get('https://www.immobiliare.it' + url['href'])\n",
    "                \n",
    "            \n",
    "            data = ann.text\n",
    "            soup1 = BeautifulSoup(data, 'html.parser')\n",
    "\n",
    "            # we want to retrieve the entire description\n",
    "            desc = soup1.find('div', attrs = {'role':'contentinfo'}).text.strip()\n",
    "            \n",
    "            # this is the list with all the infos\n",
    "            records.append((title, prezzo, locali, superfici, bagni, piano, desc))\n",
    "            count += 1\n",
    "                        \n",
    "        except:\n",
    "            pass\n",
    "            \n",
    "\n",
    "    time.sleep(1)\n",
    "    \n",
    "print(time.time() - start_time)"
   ]
  },
  {
   "cell_type": "markdown",
   "metadata": {},
   "source": [
    "In order to keep the announcements, we save the **records** list as a *.txt* file."
   ]
  },
  {
   "cell_type": "code",
   "execution_count": null,
   "metadata": {},
   "outputs": [],
   "source": [
    "with open(\"records_list.txt\", \"wb\") as fp:  \n",
    "    pickle.dump(records, fp)"
   ]
  }
 ],
 "metadata": {
  "kernelspec": {
   "display_name": "Python 3",
   "language": "python",
   "name": "python3"
  },
  "language_info": {
   "codemirror_mode": {
    "name": "ipython",
    "version": 3
   },
   "file_extension": ".py",
   "mimetype": "text/x-python",
   "name": "python",
   "nbconvert_exporter": "python",
   "pygments_lexer": "ipython3",
   "version": "3.6.5"
  }
 },
 "nbformat": 4,
 "nbformat_minor": 2
}
